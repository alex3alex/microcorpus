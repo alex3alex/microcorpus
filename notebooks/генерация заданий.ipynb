{
 "metadata": {
  "name": ""
 },
 "nbformat": 3,
 "nbformat_minor": 0,
 "worksheets": [
  {
   "cells": [
    {
     "cell_type": "code",
     "collapsed": false,
     "input": [
      "import sys\n",
      "sys.path.insert(0, '..')"
     ],
     "language": "python",
     "metadata": {},
     "outputs": [],
     "prompt_number": 1
    },
    {
     "cell_type": "code",
     "collapsed": false,
     "input": [
      "from disambig_gui.storage import SentenceStorage\n",
      "st = SentenceStorage('../data/')"
     ],
     "language": "python",
     "metadata": {},
     "outputs": [],
     "prompt_number": 2
    },
    {
     "cell_type": "code",
     "collapsed": false,
     "input": [
      "st.load('started', '4a8cf026.txt')"
     ],
     "language": "python",
     "metadata": {},
     "outputs": [
      {
       "metadata": {},
       "output_type": "pyout",
       "prompt_number": 9,
       "text": [
        "[('\u041e\u0442\u0441\u0443\u0442\u0441\u0442\u0432\u0438\u0435',\n",
        "  [('NOUN,inan,neut sing,nomn', 'univocal'),\n",
        "   ('NOUN,inan,neut sing,accs', 'discarded')]),\n",
        " ('\u043c\u0435\u0442\u0430\u0431\u043e\u043b\u0438\u0447\u0435\u0441\u043a\u043e\u0433\u043e',\n",
        "  [('ADJF masc,sing,gent', 'univocal'),\n",
        "   ('ADJF anim,masc,sing,accs', 'discarded'),\n",
        "   ('ADJF neut,sing,gent', 'discarded')]),\n",
        " ('\u0430\u0446\u0438\u0434\u043e\u0437\u0430', [('NOUN,inan,masc sing,gent', 'univocal')]),\n",
        " ('\u043e\u0431\u0443\u0441\u043b\u043e\u0432\u043b\u0435\u043d\u043e', [('PRTS,perf,past,pssv neut,sing', 'univocal')]),\n",
        " ('\u043d\u0430\u043b\u0438\u0447\u0438\u0435\u043c', [('NOUN,inan,neut sing,ablt', 'univocal')]),\n",
        " ('\u0446\u0438\u0440\u043a\u0443\u043b\u0438\u0440\u0443\u044e\u0449\u0435\u0433\u043e',\n",
        "  [('PRTF,impf,intr,pres,actv masc,sing,gent', 'ambig'),\n",
        "   ('PRTF,impf,intr,pres,actv anim,masc,sing,accs', 'ambig'),\n",
        "   ('PRTF,impf,intr,pres,actv neut,sing,gent', 'ambig')]),\n",
        " ('\u0432', [('PREP', 'univocal')]),\n",
        " ('\u043a\u0440\u043e\u0432\u0438',\n",
        "  [('NOUN,inan,femn sing,gent', 'ambig'),\n",
        "   ('NOUN,inan,femn sing,datv', 'ambig'),\n",
        "   ('NOUN,inan,femn sing,loct', 'ambig'),\n",
        "   ('NOUN,inan,femn sing,loc2', 'ambig'),\n",
        "   ('NOUN,inan,femn plur,nomn', 'ambig'),\n",
        "   ('NOUN,inan,femn plur,accs', 'ambig')]),\n",
        " ('\u0438\u043d\u0441\u0443\u043b\u0438\u043d\u0430', [('NOUN,inan,masc sing,gent', 'univocal')]),\n",
        " ('\u0438', [('CONJ', 'univocal'), ('INTJ', 'discarded'), ('PRCL', 'discarded')]),\n",
        " ('/', [('PNCT', 'univocal')]),\n",
        " ('\u0438\u043b\u0438', [('CONJ', 'ambig'), ('PRCL', 'ambig')]),\n",
        " ('\u0431\u043e\u043b\u0435\u0435', [('ADVB', 'univocal')]),\n",
        " ('\u043d\u0438\u0437\u043a\u0438\u043c\u0438', [('ADJF,Qual plur,ablt', 'univocal')]),\n",
        " ('\u0443\u0440\u043e\u0432\u043d\u044f\u043c\u0438', [('NOUN,inan,masc plur,ablt', 'univocal')]),\n",
        " ('\u043a\u043e\u043d\u0442\u0440\u0438\u043d\u0441\u0443\u043b\u0438\u043d\u043e\u0432\u044b\u0445',\n",
        "  [('ADJF plur,gent', 'ambig'),\n",
        "   ('ADJF anim,plur,accs', 'ambig'),\n",
        "   ('ADJF plur,loct', 'ambig')]),\n",
        " ('\u0433\u043e\u0440\u043c\u043e\u043d\u043e\u0432', [('NOUN,inan,masc plur,gent', 'univocal')]),\n",
        " ('.', [('PNCT', 'univocal')])]"
       ]
      }
     ],
     "prompt_number": 9
    },
    {
     "cell_type": "code",
     "collapsed": false,
     "input": [
      "st.start('003204d9.txt')"
     ],
     "language": "python",
     "metadata": {},
     "outputs": [],
     "prompt_number": 3
    },
    {
     "cell_type": "code",
     "collapsed": false,
     "input": [
      "st.generate_tasks(100)"
     ],
     "language": "python",
     "metadata": {},
     "outputs": [],
     "prompt_number": 6
    },
    {
     "cell_type": "code",
     "collapsed": false,
     "input": [
      "!rm ../data/todo/*.txt"
     ],
     "language": "python",
     "metadata": {},
     "outputs": [],
     "prompt_number": 5
    }
   ],
   "metadata": {}
  }
 ]
}