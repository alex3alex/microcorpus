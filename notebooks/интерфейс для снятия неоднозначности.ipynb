{
 "metadata": {
  "name": ""
 },
 "nbformat": 3,
 "nbformat_minor": 0,
 "worksheets": [
  {
   "cells": [
    {
     "cell_type": "code",
     "collapsed": false,
     "input": [
      "import os\n",
      "import random\n",
      "import hashlib\n",
      "import itertools\n",
      "import pymorphy2\n",
      "import opencorpora\n",
      "import russian_tagsets"
     ],
     "language": "python",
     "metadata": {},
     "outputs": [],
     "prompt_number": 117
    },
    {
     "cell_type": "code",
     "collapsed": false,
     "input": [
      "m = pymorphy2.MorphAnalyzer()\n",
      "opc = opencorpora.CorpusReader('../data/annot.opcorpora.xml')"
     ],
     "language": "python",
     "metadata": {},
     "outputs": [],
     "prompt_number": 20
    },
    {
     "cell_type": "code",
     "collapsed": false,
     "input": [
      "sents = opc.sents()"
     ],
     "language": "python",
     "metadata": {},
     "outputs": [],
     "prompt_number": 4
    },
    {
     "cell_type": "code",
     "collapsed": false,
     "input": [
      "sents_sample = random.sample(sents, 20)"
     ],
     "language": "python",
     "metadata": {},
     "outputs": [],
     "prompt_number": 17
    },
    {
     "cell_type": "code",
     "collapsed": false,
     "input": [
      "def tag_repr(tag):\n",
      "    return russian_tagsets.opencorpora.internal_to_external(str(tag))\n",
      "\n",
      "def prob_tags(word):\n",
      "    return [\"%s:%0.2f\" % (tag_repr(p.tag), p.score) for p in m.parse(word)]"
     ],
     "language": "python",
     "metadata": {},
     "outputs": [],
     "prompt_number": 46
    },
    {
     "cell_type": "code",
     "collapsed": false,
     "input": [
      "for w in sents_sample[3]:\n",
      "    print(\"%-20s %s\" % (w, \" / \".join(prob_tags(w))))"
     ],
     "language": "python",
     "metadata": {},
     "outputs": [
      {
       "output_type": "stream",
       "stream": "stdout",
       "text": [
        "\u041e\u043d\u0430                  \u041c\u0421,\u0436\u0440,3\u043b \u0435\u0434,\u0438\u043c:1.00\n",
        "\u044f\u0432\u043b\u044f\u0435\u0442\u0441\u044f             \u0413\u041b,\u043d\u0435\u0441\u043e\u0432,\u043d\u0435\u043f\u0435\u0440\u0435\u0445 \u0435\u0434,3\u043b,\u043d\u0430\u0441\u0442,\u0438\u0437\u044a\u044f\u0432:1.00\n",
        "\u0434\u043e\u043f\u043e\u043b\u043d\u0438\u0442\u0435\u043b\u044c\u043d\u043e\u0439       \u041f\u0420\u0418\u041b \u0436\u0440,\u0435\u0434,\u0440\u0434:0.29 / \u041f\u0420\u0418\u041b \u0436\u0440,\u0435\u0434,\u0434\u0442:0.29 / \u041f\u0420\u0418\u041b \u0436\u0440,\u0435\u0434,\u0442\u0432:0.29 / \u041f\u0420\u0418\u041b \u0436\u0440,\u0435\u0434,\u043f\u0440:0.14\n",
        "\u043a                    \u041f\u0420:1.00\n",
        "\u043e\u0431\u044b\u0447\u043d\u043e\u043c\u0443             \u041f\u0420\u0418\u041b,\u043a\u0430\u0447 \u043c\u0440,\u0435\u0434,\u0434\u0442:0.75 / \u041f\u0420\u0418\u041b,\u043a\u0430\u0447 \u0441\u0440,\u0435\u0434,\u0434\u0442:0.25\n",
        "\u043c\u0443\u043d\u0438\u0446\u0438\u043f\u0430\u043b\u044c\u043d\u043e\u043c\u0443       \u041f\u0420\u0418\u041b \u043c\u0440,\u0435\u0434,\u0434\u0442:0.50 / \u041f\u0420\u0418\u041b \u0441\u0440,\u0435\u0434,\u0434\u0442:0.50\n",
        "\u043e\u0442\u043b\u043e\u0432\u0443               \u0421\u0423\u0429,\u043d\u0435\u043e\u0434,\u043c\u0440 \u0435\u0434,\u0434\u0442:1.00\n",
        "\u0438                    \u0421\u041e\u042e\u0417:1.00 / \u041c\u0415\u0416\u0414:0.00 / \u0427\u0410\u0421\u0422:0.00\n",
        "\u043f\u0440\u0438\u043c\u0435\u043d\u044f\u0435\u0442\u0441\u044f          \u0413\u041b,\u043d\u0435\u0441\u043e\u0432,\u043d\u0435\u043f\u0435\u0440\u0435\u0445 \u0435\u0434,3\u043b,\u043d\u0430\u0441\u0442,\u0438\u0437\u044a\u044f\u0432:1.00\n",
        "\u0442\u043e\u043b\u044c\u043a\u043e               \u0427\u0410\u0421\u0422:0.93 / \u0421\u041e\u042e\u0417:0.07\n",
        "\u043f\u043e                   \u041f\u0420:1.00\n",
        "\u043e\u0442\u043d\u043e\u0448\u0435\u043d\u0438\u044e            \u0421\u0423\u0429,\u043d\u0435\u043e\u0434,\u0441\u0440 \u0435\u0434,\u0434\u0442:1.00\n",
        "\u043a                    \u041f\u0420:1.00\n",
        "\u043d\u0435\u043a\u043e\u0442\u043e\u0440\u044b\u043c            \u041c\u0421 \u043c\u043d,\u0434\u0442:0.40 / \u041f\u0420\u0418\u041b,\u043c\u0435\u0441\u0442-\u043f \u043c\u0440,\u0435\u0434,\u0442\u0432:0.20 / \u041f\u0420\u0418\u041b,\u043c\u0435\u0441\u0442-\u043f \u0441\u0440,\u0435\u0434,\u0442\u0432:0.20 / \u041f\u0420\u0418\u041b,\u043c\u0435\u0441\u0442-\u043f \u043c\u043d,\u0434\u0442:0.20\n",
        "\u0438\u0437\u043e\u043b\u0438\u0440\u043e\u0432\u0430\u043d\u043d\u044b\u043c        \u041f\u0420\u0418\u0427,\u0441\u043e\u0432,\u043f\u0435\u0440\u0435\u0445,\u043f\u0440\u043e\u0448,\u0441\u0442\u0440\u0430\u0434 \u043c\u0440,\u0435\u0434,\u0442\u0432:0.11 / \u041f\u0420\u0418\u0427,\u0441\u043e\u0432,\u043f\u0435\u0440\u0435\u0445,\u043f\u0440\u043e\u0448,\u0441\u0442\u0440\u0430\u0434 \u0441\u0440,\u0435\u0434,\u0442\u0432:0.11 / \u041f\u0420\u0418\u0427,\u0441\u043e\u0432,\u043f\u0435\u0440\u0435\u0445,\u043f\u0440\u043e\u0448,\u0441\u0442\u0440\u0430\u0434 \u043c\u043d,\u0434\u0442:0.11 / \u041f\u0420\u0418\u0427,\u043d\u0435\u0441\u043e\u0432,\u043f\u0435\u0440\u0435\u0445,\u043f\u0440\u043e\u0448,\u0441\u0442\u0440\u0430\u0434 \u043c\u0440,\u0435\u0434,\u0442\u0432:0.11 / \u041f\u0420\u0418\u0427,\u043d\u0435\u0441\u043e\u0432,\u043f\u0435\u0440\u0435\u0445,\u043f\u0440\u043e\u0448,\u0441\u0442\u0440\u0430\u0434 \u0441\u0440,\u0435\u0434,\u0442\u0432:0.11 / \u041f\u0420\u0418\u0427,\u043d\u0435\u0441\u043e\u0432,\u043f\u0435\u0440\u0435\u0445,\u043f\u0440\u043e\u0448,\u0441\u0442\u0440\u0430\u0434 \u043c\u043d,\u0434\u0442:0.11 / \u041f\u0420\u0418\u041b \u043c\u0440,\u0435\u0434,\u0442\u0432:0.11 / \u041f\u0420\u0418\u041b \u0441\u0440,\u0435\u0434,\u0442\u0432:0.11 / \u041f\u0420\u0418\u041b \u043c\u043d,\u0434\u0442:0.11\n",
        "\u00ab                    PNCT:1.00\n",
        "\u043a\u043e\u043b\u043e\u043d\u0438\u044f\u043c             \u0421\u0423\u0429,\u043d\u0435\u043e\u0434,\u0436\u0440 \u043c\u043d,\u0434\u0442:1.00\n",
        "\u00bb                    PNCT:1.00\n",
        "(                    PNCT:1.00\n",
        "\u0441\u0435\u043c\u0435\u0439\u043d\u044b\u043c             \u041f\u0420\u0418\u041b,\u043a\u0430\u0447 \u043c\u043d,\u0434\u0442:0.50 / \u041f\u0420\u0418\u041b,\u043a\u0430\u0447 \u043c\u0440,\u0435\u0434,\u0442\u0432:0.25 / \u041f\u0420\u0418\u041b,\u043a\u0430\u0447 \u0441\u0440,\u0435\u0434,\u0442\u0432:0.25\n",
        "\u0433\u0440\u0443\u043f\u043f\u0430\u043c              \u0421\u0423\u0429,\u043d\u0435\u043e\u0434,\u0436\u0440 \u043c\u043d,\u0434\u0442:1.00\n",
        ")                    PNCT:1.00\n",
        "\u0431\u0435\u0437\u0434\u043e\u043c\u043d\u044b\u0445            \u041f\u0420\u0418\u041b,\u043a\u0430\u0447 \u043c\u043d,\u0440\u0434:0.17 / \u041f\u0420\u0418\u041b,\u043a\u0430\u0447 \u043e\u0434,\u043c\u043d,\u0432\u043d:0.17 / \u041f\u0420\u0418\u041b,\u043a\u0430\u0447 \u043c\u043d,\u043f\u0440:0.17 / \u0421\u0423\u0429,\u043e\u0434,\u0445\u0440,\u043e\u0440,pl,\u0444\u0430\u043c \u043c\u043d,\u0440\u0434:0.17 / \u0421\u0423\u0429,\u043e\u0434,\u0445\u0440,\u043e\u0440,pl,\u0444\u0430\u043c \u043c\u043d,\u0432\u043d:0.17 / \u0421\u0423\u0429,\u043e\u0434,\u0445\u0440,\u043e\u0440,pl,\u0444\u0430\u043c \u043c\u043d,\u043f\u0440:0.17\n",
        "\u043a\u043e\u0448\u0435\u043a                \u0421\u0423\u0429,\u043e\u0434,\u0436\u0440 \u043c\u043d,\u0432\u043d:0.60 / \u0421\u0423\u0429,\u043d\u0435\u043e\u0434,\u0436\u0440 \u043c\u043d,\u0440\u0434:0.20 / \u0421\u0423\u0429,\u043e\u0434,\u0436\u0440 \u043c\u043d,\u0440\u0434:0.20\n",
        ",                    PNCT:1.00\n",
        "\u043e\u0431\u0438\u0442\u0430\u044e\u0449\u0438\u0445            \u041f\u0420\u0418\u0427,\u043d\u0435\u0441\u043e\u0432,\u043d\u0435\u043f\u0435\u0440\u0435\u0445,\u043d\u0430\u0441\u0442,\u0434\u0435\u0439\u0441\u0442\u0432 \u043c\u043d,\u0440\u0434:0.33 / \u041f\u0420\u0418\u0427,\u043d\u0435\u0441\u043e\u0432,\u043d\u0435\u043f\u0435\u0440\u0435\u0445,\u043d\u0430\u0441\u0442,\u0434\u0435\u0439\u0441\u0442\u0432 \u043e\u0434,\u043c\u043d,\u0432\u043d:0.33 / \u041f\u0420\u0418\u0427,\u043d\u0435\u0441\u043e\u0432,\u043d\u0435\u043f\u0435\u0440\u0435\u0445,\u043d\u0430\u0441\u0442,\u0434\u0435\u0439\u0441\u0442\u0432 \u043c\u043d,\u043f\u0440:0.33\n",
        "\u043d\u0430                   \u041f\u0420:1.00 / \u041c\u0415\u0416\u0414:0.00 / \u0427\u0410\u0421\u0422:0.00\n",
        "\u043e\u043a\u0440\u0430\u0438\u043d\u0430\u0445             \u0421\u0423\u0429,\u043d\u0435\u043e\u0434,\u0436\u0440 \u043c\u043d,\u043f\u0440:1.00\n",
        "\u0433\u043e\u0440\u043e\u0434\u043e\u0432              \u0421\u0423\u0429,\u043d\u0435\u043e\u0434,\u043c\u0440 \u043c\u043d,\u0440\u0434:0.98 / \u0421\u0423\u0429,\u043e\u0434,\u043c\u0440,sg,\u0444\u0430\u043c \u0435\u0434,\u0438\u043c:0.02\n",
        ",                    PNCT:1.00\n",
        "\u043d\u0430                   \u041f\u0420:1.00 / \u041c\u0415\u0416\u0414:0.00 / \u0427\u0410\u0421\u0422:0.00\n",
        "\u0442\u0435\u0440\u0440\u0438\u0442\u043e\u0440\u0438\u0438           \u0421\u0423\u0429,\u043d\u0435\u043e\u0434,\u0436\u0440 \u0435\u0434,\u0440\u0434:0.20 / \u0421\u0423\u0429,\u043d\u0435\u043e\u0434,\u0436\u0440 \u0435\u0434,\u0434\u0442:0.20 / \u0421\u0423\u0429,\u043d\u0435\u043e\u0434,\u0436\u0440 \u0435\u0434,\u043f\u0440:0.20 / \u0421\u0423\u0429,\u043d\u0435\u043e\u0434,\u0436\u0440 \u043c\u043d,\u0438\u043c:0.20 / \u0421\u0423\u0429,\u043d\u0435\u043e\u0434,\u0436\u0440 \u043c\u043d,\u0432\u043d:0.20\n",
        "\u043f\u0440\u0435\u0434\u043f\u0440\u0438\u044f\u0442\u0438\u0439          \u0421\u0423\u0429,\u043d\u0435\u043e\u0434,\u0441\u0440 \u043c\u043d,\u0440\u0434:1.00\n",
        ",                    PNCT:1.00\n",
        "\u0432                    \u041f\u0420:1.00\n",
        "\u0441\u0442\u0443\u0434\u0435\u043d\u0447\u0435\u0441\u043a\u0438\u0445         \u041f\u0420\u0418\u041b \u043c\u043d,\u043f\u0440:0.50 / \u041f\u0420\u0418\u041b \u043c\u043d,\u0440\u0434:0.25 / \u041f\u0420\u0418\u041b \u043e\u0434,\u043c\u043d,\u0432\u043d:0.25\n",
        "\u0433\u043e\u0440\u043e\u0434\u043a\u0430\u0445             \u0421\u0423\u0429,\u043d\u0435\u043e\u0434,\u043c\u0440 \u043c\u043d,\u043f\u0440:1.00\n",
        "\u0438                    \u0421\u041e\u042e\u0417:1.00 / \u041c\u0415\u0416\u0414:0.00 / \u0427\u0410\u0421\u0422:0.00\n",
        "\u0442                    \u0421\u0423\u0429,\u043d\u0435\u043e\u0434,\u043c\u0440 \u0435\u0434,\u0438\u043c:0.44 / \u0421\u0423\u0429,\u043d\u0435\u043e\u0434,\u043c\u0440 \u0435\u0434,\u0432\u043d:0.44 / \u041a\u0420_\u041f\u0420\u0418\u041b,\u043a\u0430\u0447 \u043c\u0440,\u0435\u0434:0.12 / \u041d:0.01 / \u041a\u0420_\u041f\u0420\u0418\u0427,\u0441\u043e\u0432,\u043f\u0440\u043e\u0448,\u0441\u0442\u0440\u0430\u0434 \u043c\u0440,\u0435\u0434:0.00 / \u0413\u041b,\u0441\u043e\u0432,\u043d\u0435\u043f\u0435\u0440\u0435\u0445,\u0431\u0435\u0437\u043b \u0435\u0434,\u0431\u0443\u0434,\u0438\u0437\u044a\u044f\u0432:0.00\n",
        ".                    PNCT:1.00\n",
        "\u043f                    \u0421\u0423\u0429,\u043d\u0435\u043e\u0434,\u043c\u0440 \u0435\u0434,\u0438\u043c:0.49 / \u0421\u0423\u0429,\u043d\u0435\u043e\u0434,\u043c\u0440 \u0435\u0434,\u0432\u043d:0.49 / \u0413\u041b,\u0441\u043e\u0432,\u043d\u0435\u043f\u0435\u0440\u0435\u0445 \u043c\u0440,\u0435\u0434,\u043f\u0440\u043e\u0448,\u0438\u0437\u044a\u044f\u0432:0.02 / \u041a\u0420_\u041f\u0420\u0418\u041b,\u043a\u0430\u0447 \u043c\u0440,\u0435\u0434:0.01\n",
        ".                    PNCT:1.00\n",
        "\u0438                    \u0421\u041e\u042e\u0417:1.00 / \u041c\u0415\u0416\u0414:0.00 / \u0427\u0410\u0421\u0422:0.00\n",
        "\u043d\u0435                   \u0427\u0410\u0421\u0422:1.00\n",
        "\u0432\u044b\u0437\u044b\u0432\u0430\u044e\u0449\u0438\u0445           \u041f\u0420\u0418\u041b \u043c\u043d,\u0440\u0434:0.17 / \u041f\u0420\u0418\u041b \u043e\u0434,\u043c\u043d,\u0432\u043d:0.17 / \u041f\u0420\u0418\u041b \u043c\u043d,\u043f\u0440:0.17 / \u041f\u0420\u0418\u0427,\u043d\u0435\u0441\u043e\u0432,\u043f\u0435\u0440\u0435\u0445,\u043d\u0430\u0441\u0442,\u0434\u0435\u0439\u0441\u0442\u0432 \u043c\u043d,\u0440\u0434:0.17 / \u041f\u0420\u0418\u0427,\u043d\u0435\u0441\u043e\u0432,\u043f\u0435\u0440\u0435\u0445,\u043d\u0430\u0441\u0442,\u0434\u0435\u0439\u0441\u0442\u0432 \u043e\u0434,\u043c\u043d,\u0432\u043d:0.17 / \u041f\u0420\u0418\u0427,\u043d\u0435\u0441\u043e\u0432,\u043f\u0435\u0440\u0435\u0445,\u043d\u0430\u0441\u0442,\u0434\u0435\u0439\u0441\u0442\u0432 \u043c\u043d,\u043f\u0440:0.17\n",
        "\u0441\u0432\u043e\u0438\u043c                \u041f\u0420\u0418\u041b,\u043c\u0435\u0441\u0442-\u043f \u043c\u043d,\u0434\u0442:0.97 / \u041f\u0420\u0418\u041b,\u043c\u0435\u0441\u0442-\u043f \u043c\u0440,\u0435\u0434,\u0442\u0432:0.02 / \u041f\u0420\u0418\u041b,\u043c\u0435\u0441\u0442-\u043f \u0441\u0440,\u0435\u0434,\u0442\u0432:0.02\n",
        "\u043f\u0440\u0438\u0441\u0443\u0442\u0441\u0442\u0432\u0438\u0435\u043c         \u0421\u0423\u0429,\u043d\u0435\u043e\u0434,\u0441\u0440 \u0435\u0434,\u0442\u0432:1.00\n",
        "\u0441\u0435\u0440\u044c\u0435\u0437\u043d\u044b\u0445            \u041f\u0420\u0418\u041b,\u043a\u0430\u0447 \u043c\u043d,\u0440\u0434:0.33 / \u041f\u0420\u0418\u041b,\u043a\u0430\u0447 \u043e\u0434,\u043c\u043d,\u0432\u043d:0.33 / \u041f\u0420\u0418\u041b,\u043a\u0430\u0447 \u043c\u043d,\u043f\u0440:0.33\n",
        "\u043f\u0440\u043e\u0431\u043b\u0435\u043c              \u0421\u0423\u0429,\u043d\u0435\u043e\u0434,\u0436\u0440 \u043c\u043d,\u0440\u0434:1.00\n",
        ".                    PNCT:1.00\n"
       ]
      }
     ],
     "prompt_number": 95
    },
    {
     "cell_type": "code",
     "collapsed": false,
     "input": [
      "with open('../data/corpus.txt', 'w', encoding='utf8') as f:\n",
      "    for s in sents:\n",
      "        f.write(' '.join(s))\n",
      "        f.write('\\n')"
     ],
     "language": "python",
     "metadata": {},
     "outputs": [],
     "prompt_number": 58
    },
    {
     "cell_type": "code",
     "collapsed": false,
     "input": [
      "def _lines(filename):\n",
      "    with open(filename, 'r', encoding='utf8') as f:\n",
      "        for line in f:\n",
      "            yield line.rstrip()\n",
      "\n",
      "def iter_sents(filename):\n",
      "    divider = lambda l: not l\n",
      "    for is_divider, sent in itertools.groupby(_lines(filename), key=divider):\n",
      "        if not is_divider:\n",
      "            yield sent.split()\n",
      "\n",
      "def load_sents(filename):\n",
      "    with open(filename, 'r', encoding='utf8') as f:\n",
      "        return [line.split() for line in f]"
     ],
     "language": "python",
     "metadata": {},
     "outputs": [],
     "prompt_number": 66
    },
    {
     "cell_type": "code",
     "collapsed": false,
     "input": [
      "sents2 = load_sents('../data/opcorpora.txt')"
     ],
     "language": "python",
     "metadata": {},
     "outputs": [],
     "prompt_number": 67
    },
    {
     "cell_type": "code",
     "collapsed": false,
     "input": [
      "max([max([tok for tok in sent] or [''], key=len) for sent in sents], key=len)"
     ],
     "language": "python",
     "metadata": {},
     "outputs": [
      {
       "metadata": {},
       "output_type": "pyout",
       "prompt_number": 107,
       "text": [
        "'http://www.engadget.com/2009/11/24/chrome-os-like-lightning-from-a-usb-key-we-could-get-used-to-th/'"
       ]
      }
     ],
     "prompt_number": 107
    },
    {
     "cell_type": "code",
     "collapsed": false,
     "input": [],
     "language": "python",
     "metadata": {},
     "outputs": [
      {
       "metadata": {},
       "output_type": "pyout",
       "prompt_number": 113,
       "text": [
        "-1569531018304270755"
       ]
      }
     ],
     "prompt_number": 113
    }
   ],
   "metadata": {}
  }
 ]
}